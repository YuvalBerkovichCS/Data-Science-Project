{
 "cells": [
  {
   "cell_type": "code",
   "execution_count": 1,
   "id": "909d049b",
   "metadata": {},
   "outputs": [],
   "source": [
    "import numpy as np\n",
    "import pandas as pd\n",
    "import matplotlib.pyplot as plt\n",
    "import seaborn as sns\n",
    "import matplotlib as mpl\n",
    "import matplotlib.pyplot as plt\n",
    "%matplotlib inline\n",
    "import time"
   ]
  },
  {
   "cell_type": "code",
   "execution_count": 44,
   "id": "026574e6",
   "metadata": {},
   "outputs": [],
   "source": [
    "data_file_name = 'data-v21-18-50-25-06-22'\n",
    "df_dirty = pd.read_csv('data/'+ data_file_name +'.csv', encoding= 'ISO-8859-8')"
   ]
  },
  {
   "cell_type": "markdown",
   "id": "c3275a2e",
   "metadata": {},
   "source": [
    "# Remove outliers and remove nan functions:"
   ]
  },
  {
   "cell_type": "code",
   "execution_count": 45,
   "id": "3e4be9c2",
   "metadata": {},
   "outputs": [],
   "source": [
    "def remove_outlier(df_in, col_name):\n",
    "    q1 = df_in[col_name].quantile(0.25)\n",
    "    q3 = df_in[col_name].quantile(0.75)\n",
    "    iqr = q3-q1 #Interquartile range\n",
    "    fence_low  = q1-1.5*iqr\n",
    "    fence_high = q3+1.5*iqr\n",
    "    df_out = df_in.loc[(df_in[col_name] > fence_low) & (df_in[col_name] < fence_high)]\n",
    "    return df_out"
   ]
  },
  {
   "cell_type": "code",
   "execution_count": 46,
   "id": "9208302e",
   "metadata": {},
   "outputs": [],
   "source": [
    "def remove_nan_rows(data,col):\n",
    "    data = data.dropna(subset = ['PPSQM'])\n",
    "    return data"
   ]
  },
  {
   "cell_type": "code",
   "execution_count": 48,
   "id": "b8fbff4b",
   "metadata": {},
   "outputs": [
    {
     "name": "stdout",
     "output_type": "stream",
     "text": [
      "<class 'pandas.core.frame.DataFrame'>\n",
      "RangeIndex: 36421 entries, 0 to 36420\n",
      "Data columns (total 12 columns):\n",
      " #   Column      Non-Null Count  Dtype  \n",
      "---  ------      --------------  -----  \n",
      " 0   Unnamed: 0  36421 non-null  int64  \n",
      " 1   DealYear    36421 non-null  int64  \n",
      " 2   DealMonth   36421 non-null  int64  \n",
      " 3   Date        36421 non-null  object \n",
      " 4   Area        36421 non-null  object \n",
      " 5   Address     27880 non-null  object \n",
      " 6   Rooms       36416 non-null  float64\n",
      " 7   Surface     36421 non-null  int64  \n",
      " 8   Floor       22996 non-null  float64\n",
      " 9   Price       36405 non-null  object \n",
      " 10  PPSQM       36263 non-null  object \n",
      " 11  BuildYear   36420 non-null  float64\n",
      "dtypes: float64(3), int64(4), object(5)\n",
      "memory usage: 3.3+ MB\n"
     ]
    }
   ],
   "source": [
    "df_dirty.info()"
   ]
  },
  {
   "cell_type": "markdown",
   "id": "a8b2bead",
   "metadata": {},
   "source": [
    "# Handling data types\n",
    "## Creating a clean Data Frame by removing outliers and nan values"
   ]
  },
  {
   "cell_type": "code",
   "execution_count": 63,
   "id": "d8ddb700",
   "metadata": {},
   "outputs": [],
   "source": [
    "df_dirty = remove_nan_rows(df_dirty,'PPSQM')\n",
    "\n",
    "#handle columns types\n",
    "df_dirty['PPSQM'] = df_dirty['PPSQM'].astype(str).str.replace(',', '').astype(int)\n",
    "df_dirty['DealYear'] = df_dirty['DealYear'].astype(int)\n",
    "df_dirty['Price'] = df_dirty['Price'].astype(str).str.replace(',', '').astype(int)\n",
    "\n",
    "areas = df_dirty.Area.unique()\n",
    "df_clean= pd.DataFrame({'DealYear': [],'DealMonth': [],'Date': [],'Area':[],'Address': [],'Rooms':[],'Surface':[],\n",
    "                        'Floor':[],'Price':[],'PPSQM':[],'BuildYear': []})\n",
    "\n",
    "for area in areas:\n",
    "    df_temp = df_dirty.loc[df_dirty['Area'] == area]\n",
    "    df_temp = remove_outlier(df_temp,'PPSQM')\n",
    "    df_clean = pd.concat([df_clean,df_temp],ignore_index=True)\n",
    "    \n",
    "df_dirty['PPSQM'] = df_dirty['PPSQM'].astype(str).str.replace(',', '').astype(int)\n",
    "\n",
    "fileName = data_file_name + '_cleaned'\n",
    "df_clean.to_csv('data/'+ fileName + '.csv', encoding = \"ISO-8859-8\")"
   ]
  },
  {
   "cell_type": "markdown",
   "id": "ced24de4",
   "metadata": {},
   "source": [
    "# Showing the differences between a dirty Data Frame and a clean one"
   ]
  },
  {
   "cell_type": "code",
   "execution_count": 64,
   "id": "a44b6e31",
   "metadata": {},
   "outputs": [
    {
     "name": "stdout",
     "output_type": "stream",
     "text": [
      "<class 'pandas.core.frame.DataFrame'>\n",
      "Int64Index: 36263 entries, 1 to 36420\n",
      "Data columns (total 12 columns):\n",
      " #   Column      Non-Null Count  Dtype  \n",
      "---  ------      --------------  -----  \n",
      " 0   Unnamed: 0  36263 non-null  int64  \n",
      " 1   DealYear    36263 non-null  int32  \n",
      " 2   DealMonth   36263 non-null  int64  \n",
      " 3   Date        36263 non-null  object \n",
      " 4   Area        36263 non-null  object \n",
      " 5   Address     27768 non-null  object \n",
      " 6   Rooms       36258 non-null  float64\n",
      " 7   Surface     36263 non-null  int64  \n",
      " 8   Floor       22895 non-null  float64\n",
      " 9   Price       36263 non-null  int32  \n",
      " 10  PPSQM       36263 non-null  int32  \n",
      " 11  BuildYear   36262 non-null  float64\n",
      "dtypes: float64(3), int32(3), int64(3), object(3)\n",
      "memory usage: 3.2+ MB\n"
     ]
    }
   ],
   "source": [
    "df_dirty.info()"
   ]
  },
  {
   "cell_type": "code",
   "execution_count": 65,
   "id": "7bcaf166",
   "metadata": {},
   "outputs": [
    {
     "name": "stdout",
     "output_type": "stream",
     "text": [
      "<class 'pandas.core.frame.DataFrame'>\n",
      "RangeIndex: 34720 entries, 0 to 34719\n",
      "Data columns (total 12 columns):\n",
      " #   Column      Non-Null Count  Dtype  \n",
      "---  ------      --------------  -----  \n",
      " 0   DealYear    34720 non-null  float64\n",
      " 1   DealMonth   34720 non-null  float64\n",
      " 2   Date        34720 non-null  object \n",
      " 3   Area        34720 non-null  object \n",
      " 4   Address     26611 non-null  object \n",
      " 5   Rooms       34716 non-null  float64\n",
      " 6   Surface     34720 non-null  float64\n",
      " 7   Floor       22201 non-null  float64\n",
      " 8   Price       34720 non-null  float64\n",
      " 9   PPSQM       34720 non-null  float64\n",
      " 10  BuildYear   34720 non-null  float64\n",
      " 11  Unnamed: 0  34720 non-null  float64\n",
      "dtypes: float64(9), object(3)\n",
      "memory usage: 3.2+ MB\n"
     ]
    }
   ],
   "source": [
    "df_clean.info()"
   ]
  },
  {
   "cell_type": "markdown",
   "id": "12abfd19",
   "metadata": {},
   "source": [
    "# Visualization of the outliers dropped"
   ]
  },
  {
   "cell_type": "code",
   "execution_count": 66,
   "id": "4a389261",
   "metadata": {},
   "outputs": [
    {
     "data": {
      "image/png": "[encoded data removed]",
      "text/plain": [
       "<Figure size 432x288 with 1 Axes>"
      ]
     },
     "metadata": {
      "needs_background": "light"
     },
     "output_type": "display_data"
    }
   ],
   "source": [
    "plt.boxplot(df_dirty.loc[df_dirty['Area'] == 'tel-aviv-area']['PPSQM'])\n",
    "plt.show()"
   ]
  },
  {
   "cell_type": "code",
   "execution_count": 67,
   "id": "f0e6100e",
   "metadata": {},
   "outputs": [
    {
     "data": {
      "image/png": "[encoded data removed]",
      "text/plain": [
       "<Figure size 432x288 with 1 Axes>"
      ]
     },
     "metadata": {
      "needs_background": "light"
     },
     "output_type": "display_data"
    }
   ],
   "source": [
    "df_clea = df_clean.loc[df_clean['Area'] == 'tel-aviv-area']['PPSQM']\n",
    "plt.boxplot(df_test)\n",
    "plt.show()"
   ]
  },
  {
   "cell_type": "markdown",
   "id": "74b3a560",
   "metadata": {},
   "source": [
    "## Before cleaning:"
   ]
  },
  {
   "cell_type": "code",
   "execution_count": 68,
   "id": "1123bb13",
   "metadata": {},
   "outputs": [
    {
     "data": {
      "image/png": "[encoded data removed]",
      "text/plain": [
       "<Figure size 432x288 with 1 Axes>"
      ]
     },
     "metadata": {
      "needs_background": "light"
     },
     "output_type": "display_data"
    }
   ],
   "source": [
    "plt.boxplot(df_dirty.loc[df_dirty['Area'] == 'holon-bat-yam']['PPSQM'])\n",
    "plt.show()"
   ]
  },
  {
   "cell_type": "markdown",
   "id": "5b3f22a4",
   "metadata": {},
   "source": [
    "## After cleaining:"
   ]
  },
  {
   "cell_type": "code",
   "execution_count": 69,
   "id": "6a04a144",
   "metadata": {},
   "outputs": [
    {
     "data": {
      "image/png": "[encoded data removed]",
      "text/plain": [
       "<Figure size 432x288 with 1 Axes>"
      ]
     },
     "metadata": {
      "needs_background": "light"
     },
     "output_type": "display_data"
    }
   ],
   "source": [
    "df_test = df_clean.loc[df_clean['Area'] == 'tel-aviv-area']['PPSQM']\n",
    "plt.boxplot(df_test)\n",
    "plt.show()"
   ]
  },
  {
   "cell_type": "code",
   "execution_count": null,
   "id": "532ce132",
   "metadata": {},
   "outputs": [],
   "source": []
  }
 ],
 "metadata": {
  "kernelspec": {
   "display_name": "Python 3 (ipykernel)",
   "language": "python",
   "name": "python3"
  },
  "language_info": {
   "codemirror_mode": {
    "name": "ipython",
    "version": 3
   },
   "file_extension": ".py",
   "mimetype": "text/x-python",
   "name": "python",
   "nbconvert_exporter": "python",
   "pygments_lexer": "ipython3",
   "version": "3.9.12"
  }
 },
 "nbformat": 4,
 "nbformat_minor": 5
}
