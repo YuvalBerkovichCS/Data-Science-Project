{
 "cells": [
  {
   "cell_type": "code",
   "execution_count": 1,
   "id": "909d049b",
   "metadata": {},
   "outputs": [],
   "source": [
    "import numpy as np\n",
    "import pandas as pd\n",
    "import matplotlib.pyplot as plt\n",
    "import seaborn as sns\n",
    "import matplotlib as mpl\n",
    "import matplotlib.pyplot as plt\n",
    "%matplotlib inline\n",
    "import time"
   ]
  },
  {
   "cell_type": "code",
   "execution_count": 2,
   "id": "026574e6",
   "metadata": {},
   "outputs": [],
   "source": [
    "data_file_name = 'data-v11-07-08-29-06-22'\n",
    "df_dirty = pd.read_csv('data/'+ data_file_name +'.csv', encoding= 'ISO-8859-8')"
   ]
  },
  {
   "cell_type": "markdown",
   "id": "c3275a2e",
   "metadata": {},
   "source": [
    "# Remove outliers and remove nan functions:"
   ]
  },
  {
   "cell_type": "code",
   "execution_count": 3,
   "id": "3e4be9c2",
   "metadata": {},
   "outputs": [],
   "source": [
    "def remove_outlier(df_in, col_name):\n",
    "    q1 = df_in[col_name].quantile(0.25)\n",
    "    q3 = df_in[col_name].quantile(0.75)\n",
    "    iqr = q3-q1 #Interquartile range\n",
    "    fence_low  = q1-1.5*iqr\n",
    "    fence_high = q3+1.5*iqr\n",
    "    df_out = df_in.loc[(df_in[col_name] > fence_low) & (df_in[col_name] < fence_high)]\n",
    "    return df_out"
   ]
  },
  {
   "cell_type": "code",
   "execution_count": 4,
   "id": "9208302e",
   "metadata": {},
   "outputs": [],
   "source": [
    "def remove_nan_rows(data,col):\n",
    "    data = data.dropna(subset = ['PPSQM'])\n",
    "    return data"
   ]
  },
  {
   "cell_type": "code",
   "execution_count": 5,
   "id": "b8fbff4b",
   "metadata": {},
   "outputs": [
    {
     "name": "stdout",
     "output_type": "stream",
     "text": [
      "<class 'pandas.core.frame.DataFrame'>\n",
      "RangeIndex: 36935 entries, 0 to 36934\n",
      "Data columns (total 12 columns):\n",
      " #   Column      Non-Null Count  Dtype  \n",
      "---  ------      --------------  -----  \n",
      " 0   Unnamed: 0  36935 non-null  int64  \n",
      " 1   DealYear    36935 non-null  float64\n",
      " 2   DealMonth   36935 non-null  float64\n",
      " 3   Date        36935 non-null  object \n",
      " 4   Area        36935 non-null  object \n",
      " 5   Address     27817 non-null  object \n",
      " 6   Rooms       32762 non-null  float64\n",
      " 7   Surface     32501 non-null  float64\n",
      " 8   Floor       20549 non-null  float64\n",
      " 9   Price       36895 non-null  object \n",
      " 10  PPSQM       32364 non-null  object \n",
      " 11  BuildYear   32763 non-null  float64\n",
      "dtypes: float64(6), int64(1), object(5)\n",
      "memory usage: 3.4+ MB\n"
     ]
    }
   ],
   "source": [
    "df_dirty.info()"
   ]
  },
  {
   "cell_type": "markdown",
   "id": "a0e7c0ee",
   "metadata": {},
   "source": [
    "# Handling data types\n",
    "## Creating a clean Data Frame by removing outliers and nan values"
   ]
  },
  {
   "cell_type": "code",
   "execution_count": 6,
   "id": "d8ddb700",
   "metadata": {},
   "outputs": [],
   "source": [
    "df_dirty = remove_nan_rows(df_dirty,'PPSQM')\n",
    "\n",
    "#handle columns types\n",
    "df_dirty['PPSQM'] = df_dirty['PPSQM'].astype(str).str.replace(',', '').astype(int)\n",
    "df_dirty['DealYear'] = df_dirty['DealYear'].astype(int)\n",
    "df_dirty['Price'] = df_dirty['Price'].astype(str).str.replace(',', '').astype(int)\n",
    "\n",
    "areas = df_dirty.Area.unique()\n",
    "df_clean= pd.DataFrame({'DealYear': [],'DealMonth': [],'Date': [],'Area':[],'Address': [],'Rooms':[],'Surface':[],\n",
    "                        'Floor':[],'Price':[],'PPSQM':[],'BuildYear': []})\n",
    "\n",
    "for area in areas:\n",
    "    df_temp = df_dirty.loc[df_dirty['Area'] == area]\n",
    "    df_temp = remove_outlier(df_temp,'PPSQM')\n",
    "    df_clean = pd.concat([df_clean,df_temp],ignore_index=True)\n",
    "    \n",
    "df_dirty['PPSQM'] = df_dirty['PPSQM'].astype(str).str.replace(',', '').astype(int)\n",
    "\n",
    "#creating a cleaned csv file\n",
    "fileName = data_file_name + '_cleaned'\n",
    "df_clean.to_csv('data/'+ fileName + '.csv', encoding = \"ISO-8859-8\")"
   ]
  },
  {
   "cell_type": "markdown",
   "id": "5b8f2971",
   "metadata": {},
   "source": [
    "# Showing the differences between a dirty Data Frame and a clean one"
   ]
  },
  {
   "cell_type": "code",
   "execution_count": 7,
   "id": "a44b6e31",
   "metadata": {},
   "outputs": [
    {
     "name": "stdout",
     "output_type": "stream",
     "text": [
      "<class 'pandas.core.frame.DataFrame'>\n",
      "Int64Index: 32364 entries, 1 to 36934\n",
      "Data columns (total 12 columns):\n",
      " #   Column      Non-Null Count  Dtype  \n",
      "---  ------      --------------  -----  \n",
      " 0   Unnamed: 0  32364 non-null  int64  \n",
      " 1   DealYear    32364 non-null  int32  \n",
      " 2   DealMonth   32364 non-null  float64\n",
      " 3   Date        32364 non-null  object \n",
      " 4   Area        32364 non-null  object \n",
      " 5   Address     24731 non-null  object \n",
      " 6   Rooms       32362 non-null  float64\n",
      " 7   Surface     32364 non-null  float64\n",
      " 8   Floor       20269 non-null  float64\n",
      " 9   Price       32364 non-null  int32  \n",
      " 10  PPSQM       32364 non-null  int32  \n",
      " 11  BuildYear   32363 non-null  float64\n",
      "dtypes: float64(5), int32(3), int64(1), object(3)\n",
      "memory usage: 2.8+ MB\n"
     ]
    }
   ],
   "source": [
    "df_dirty.info()"
   ]
  },
  {
   "cell_type": "code",
   "execution_count": 8,
   "id": "7bcaf166",
   "metadata": {},
   "outputs": [
    {
     "name": "stdout",
     "output_type": "stream",
     "text": [
      "<class 'pandas.core.frame.DataFrame'>\n",
      "RangeIndex: 30986 entries, 0 to 30985\n",
      "Data columns (total 12 columns):\n",
      " #   Column      Non-Null Count  Dtype  \n",
      "---  ------      --------------  -----  \n",
      " 0   DealYear    30986 non-null  float64\n",
      " 1   DealMonth   30986 non-null  float64\n",
      " 2   Date        30986 non-null  object \n",
      " 3   Area        30986 non-null  object \n",
      " 4   Address     23701 non-null  object \n",
      " 5   Rooms       30985 non-null  float64\n",
      " 6   Surface     30986 non-null  float64\n",
      " 7   Floor       19651 non-null  float64\n",
      " 8   Price       30986 non-null  float64\n",
      " 9   PPSQM       30986 non-null  float64\n",
      " 10  BuildYear   30986 non-null  float64\n",
      " 11  Unnamed: 0  30986 non-null  float64\n",
      "dtypes: float64(9), object(3)\n",
      "memory usage: 2.8+ MB\n"
     ]
    }
   ],
   "source": [
    "df_clean.info()"
   ]
  },
  {
   "cell_type": "markdown",
   "id": "96824f45",
   "metadata": {},
   "source": [
    "# Visualization of the outliers dropped"
   ]
  },
  {
   "cell_type": "markdown",
   "id": "25d653a1",
   "metadata": {},
   "source": [
    "## Before cleaning:"
   ]
  },
  {
   "cell_type": "code",
   "execution_count": 9,
   "id": "4a389261",
   "metadata": {},
   "outputs": [
    {
     "data": {
      "image/png": "[encoded data removed]",
      "text/plain": [
       "<Figure size 432x288 with 1 Axes>"
      ]
     },
     "metadata": {
      "needs_background": "light"
     },
     "output_type": "display_data"
    }
   ],
   "source": [
    "plt.boxplot(df_dirty.loc[df_dirty['Area'] == 'tel-aviv-area']['PPSQM'])\n",
    "plt.show()"
   ]
  },
  {
   "cell_type": "markdown",
   "id": "dec81193",
   "metadata": {},
   "source": [
    "## After cleaining:\n"
   ]
  },
  {
   "cell_type": "code",
   "execution_count": 10,
   "id": "f0e6100e",
   "metadata": {},
   "outputs": [
    {
     "data": {
      "image/png": "[encoded data removed]",
      "text/plain": [
       "<Figure size 432x288 with 1 Axes>"
      ]
     },
     "metadata": {
      "needs_background": "light"
     },
     "output_type": "display_data"
    }
   ],
   "source": [
    "plt.boxplot(df_clean.loc[df_clean['Area'] == 'tel-aviv-area']['PPSQM'])\n",
    "plt.show()"
   ]
  },
  {
   "cell_type": "code",
   "execution_count": 12,
   "id": "a9911a66",
   "metadata": {},
   "outputs": [
    {
     "name": "stdout",
     "output_type": "stream",
     "text": [
      "tel-aviv-area Before cleaning\n"
     ]
    },
    {
     "data": {
      "image/png": "[encoded data removed]",
      "text/plain": [
       "<Figure size 432x288 with 1 Axes>"
      ]
     },
     "metadata": {
      "needs_background": "light"
     },
     "output_type": "display_data"
    },
    {
     "name": "stdout",
     "output_type": "stream",
     "text": [
      "tel-aviv-area After cleaning\n"
     ]
    },
    {
     "data": {
      "image/png": "[encoded data removed]",
      "text/plain": [
       "<Figure size 432x288 with 1 Axes>"
      ]
     },
     "metadata": {
      "needs_background": "light"
     },
     "output_type": "display_data"
    },
    {
     "name": "stdout",
     "output_type": "stream",
     "text": [
      "holon-bat-yam Before cleaning\n"
     ]
    },
    {
     "data": {
      "image/png": "[encoded data removed]",
      "text/plain": [
       "<Figure size 432x288 with 1 Axes>"
      ]
     },
     "metadata": {
      "needs_background": "light"
     },
     "output_type": "display_data"
    },
    {
     "name": "stdout",
     "output_type": "stream",
     "text": [
      "holon-bat-yam After cleaning\n"
     ]
    },
    {
     "data": {
      "image/png": "[encoded data removed]",
      "text/plain": [
       "<Figure size 432x288 with 1 Axes>"
      ]
     },
     "metadata": {
      "needs_background": "light"
     },
     "output_type": "display_data"
    },
    {
     "name": "stdout",
     "output_type": "stream",
     "text": [
      "ramat-gan-givatayim Before cleaning\n"
     ]
    },
    {
     "data": {
      "image/png": "[encoded data removed]",
      "text/plain": [
       "<Figure size 432x288 with 1 Axes>"
      ]
     },
     "metadata": {
      "needs_background": "light"
     },
     "output_type": "display_data"
    },
    {
     "name": "stdout",
     "output_type": "stream",
     "text": [
      "ramat-gan-givatayim After cleaning\n"
     ]
    },
    {
     "data": {
      "image/png": "[encoded data removed]",
      "text/plain": [
       "<Figure size 432x288 with 1 Axes>"
      ]
     },
     "metadata": {
      "needs_background": "light"
     },
     "output_type": "display_data"
    },
    {
     "name": "stdout",
     "output_type": "stream",
     "text": [
      "ramat-hasharon-herzliya Before cleaning\n"
     ]
    },
    {
     "data": {
      "image/png": "[encoded data removed]",
      "text/plain": [
       "<Figure size 432x288 with 1 Axes>"
      ]
     },
     "metadata": {
      "needs_background": "light"
     },
     "output_type": "display_data"
    },
    {
     "name": "stdout",
     "output_type": "stream",
     "text": [
      "ramat-hasharon-herzliya After cleaning\n"
     ]
    },
    {
     "data": {
      "image/png": "[encoded data removed]",
      "text/plain": [
       "<Figure size 432x288 with 1 Axes>"
      ]
     },
     "metadata": {
      "needs_background": "light"
     },
     "output_type": "display_data"
    },
    {
     "name": "stdout",
     "output_type": "stream",
     "text": [
      "rishon-lezion-area Before cleaning\n"
     ]
    },
    {
     "data": {
      "image/png": "[encoded data removed]",
      "text/plain": [
       "<Figure size 432x288 with 1 Axes>"
      ]
     },
     "metadata": {
      "needs_background": "light"
     },
     "output_type": "display_data"
    },
    {
     "name": "stdout",
     "output_type": "stream",
     "text": [
      "rishon-lezion-area After cleaning\n"
     ]
    },
    {
     "data": {
      "image/png": "[encoded data removed]",
      "text/plain": [
       "<Figure size 432x288 with 1 Axes>"
      ]
     },
     "metadata": {
      "needs_background": "light"
     },
     "output_type": "display_data"
    },
    {
     "name": "stdout",
     "output_type": "stream",
     "text": [
      "ness-ziona-rehovot Before cleaning\n"
     ]
    },
    {
     "data": {
      "image/png": "[encoded data removed]",
      "text/plain": [
       "<Figure size 432x288 with 1 Axes>"
      ]
     },
     "metadata": {
      "needs_background": "light"
     },
     "output_type": "display_data"
    },
    {
     "name": "stdout",
     "output_type": "stream",
     "text": [
      "ness-ziona-rehovot After cleaning\n"
     ]
    },
    {
     "data": {
      "image/png": "[encoded data removed]",
      "text/plain": [
       "<Figure size 432x288 with 1 Axes>"
      ]
     },
     "metadata": {
      "needs_background": "light"
     },
     "output_type": "display_data"
    },
    {
     "name": "stdout",
     "output_type": "stream",
     "text": [
      "ramla-lod Before cleaning\n"
     ]
    },
    {
     "data": {
      "image/png": "[encoded data removed]",
      "text/plain": [
       "<Figure size 432x288 with 1 Axes>"
      ]
     },
     "metadata": {
      "needs_background": "light"
     },
     "output_type": "display_data"
    },
    {
     "name": "stdout",
     "output_type": "stream",
     "text": [
      "ramla-lod After cleaning\n"
     ]
    },
    {
     "data": {
      "image/png": "[encoded data removed]",
      "text/plain": [
       "<Figure size 432x288 with 1 Axes>"
      ]
     },
     "metadata": {
      "needs_background": "light"
     },
     "output_type": "display_data"
    },
    {
     "name": "stdout",
     "output_type": "stream",
     "text": [
      "petah-tikva-area Before cleaning\n"
     ]
    },
    {
     "data": {
      "image/png": "[encoded data removed]",
      "text/plain": [
       "<Figure size 432x288 with 1 Axes>"
      ]
     },
     "metadata": {
      "needs_background": "light"
     },
     "output_type": "display_data"
    },
    {
     "name": "stdout",
     "output_type": "stream",
     "text": [
      "petah-tikva-area After cleaning\n"
     ]
    },
    {
     "data": {
      "image/png": "[encoded data removed]",
      "text/plain": [
       "<Figure size 432x288 with 1 Axes>"
      ]
     },
     "metadata": {
      "needs_background": "light"
     },
     "output_type": "display_data"
    },
    {
     "name": "stdout",
     "output_type": "stream",
     "text": [
      "hod-hasharon-area Before cleaning\n"
     ]
    },
    {
     "data": {
      "image/png": "[encoded data removed]",
      "text/plain": [
       "<Figure size 432x288 with 1 Axes>"
      ]
     },
     "metadata": {
      "needs_background": "light"
     },
     "output_type": "display_data"
    },
    {
     "name": "stdout",
     "output_type": "stream",
     "text": [
      "hod-hasharon-area After cleaning\n"
     ]
    },
    {
     "data": {
      "image/png": "[encoded data removed]",
      "text/plain": [
       "<Figure size 432x288 with 1 Axes>"
      ]
     },
     "metadata": {
      "needs_background": "light"
     },
     "output_type": "display_data"
    },
    {
     "name": "stdout",
     "output_type": "stream",
     "text": [
      "raanana-kfar-saba Before cleaning\n"
     ]
    },
    {
     "data": {
      "image/png": "[encoded data removed]",
      "text/plain": [
       "<Figure size 432x288 with 1 Axes>"
      ]
     },
     "metadata": {
      "needs_background": "light"
     },
     "output_type": "display_data"
    },
    {
     "name": "stdout",
     "output_type": "stream",
     "text": [
      "raanana-kfar-saba After cleaning\n"
     ]
    },
    {
     "data": {
      "image/png": "[encoded data removed]",
      "text/plain": [
       "<Figure size 432x288 with 1 Axes>"
      ]
     },
     "metadata": {
      "needs_background": "light"
     },
     "output_type": "display_data"
    }
   ],
   "source": [
    "areasList = ['tel-aviv-area','holon-bat-yam','ramat-gan-givatayim','ramat-hasharon-herzliya','rishon-lezion-area',\n",
    "                 'ness-ziona-rehovot','ramla-lod','petah-tikva-area','hod-hasharon-area','raanana-kfar-saba']\n",
    "\n",
    "for area in areasList:\n",
    "    print(area,'Before cleaning')\n",
    "    plt.boxplot(df_dirty.loc[df_dirty['Area'] == area]['PPSQM'])\n",
    "    plt.show()\n",
    "    print(area,'After cleaning')\n",
    "    plt.boxplot(df_clean.loc[df_clean['Area'] == area]['PPSQM'])\n",
    "    plt.show()"
   ]
  },
  {
   "cell_type": "markdown",
   "id": "aa5371f8",
   "metadata": {},
   "source": [
    "# The new cleaned Data Frame:"
   ]
  },
  {
   "cell_type": "code",
   "execution_count": 13,
   "id": "36a1ee62",
   "metadata": {},
   "outputs": [
    {
     "data": {
      "text/html": [
       "<div>\n",
       "<style scoped>\n",
       "    .dataframe tbody tr th:only-of-type {\n",
       "        vertical-align: middle;\n",
       "    }\n",
       "\n",
       "    .dataframe tbody tr th {\n",
       "        vertical-align: top;\n",
       "    }\n",
       "\n",
       "    .dataframe thead th {\n",
       "        text-align: right;\n",
       "    }\n",
       "</style>\n",
       "<table border=\"1\" class=\"dataframe\">\n",
       "  <thead>\n",
       "    <tr style=\"text-align: right;\">\n",
       "      <th></th>\n",
       "      <th>DealYear</th>\n",
       "      <th>DealMonth</th>\n",
       "      <th>Date</th>\n",
       "      <th>Area</th>\n",
       "      <th>Address</th>\n",
       "      <th>Rooms</th>\n",
       "      <th>Surface</th>\n",
       "      <th>Floor</th>\n",
       "      <th>Price</th>\n",
       "      <th>PPSQM</th>\n",
       "      <th>BuildYear</th>\n",
       "      <th>Unnamed: 0</th>\n",
       "    </tr>\n",
       "  </thead>\n",
       "  <tbody>\n",
       "    <tr>\n",
       "      <th>0</th>\n",
       "      <td>2010.0</td>\n",
       "      <td>12.0</td>\n",
       "      <td>31/12/2010</td>\n",
       "      <td>tel-aviv-area</td>\n",
       "      <td>מלצ''ט 36</td>\n",
       "      <td>5.0</td>\n",
       "      <td>128.0</td>\n",
       "      <td>NaN</td>\n",
       "      <td>950000.0</td>\n",
       "      <td>7421.0</td>\n",
       "      <td>1999.0</td>\n",
       "      <td>1.0</td>\n",
       "    </tr>\n",
       "    <tr>\n",
       "      <th>1</th>\n",
       "      <td>2010.0</td>\n",
       "      <td>12.0</td>\n",
       "      <td>31/12/2010</td>\n",
       "      <td>tel-aviv-area</td>\n",
       "      <td>קרליבך 1</td>\n",
       "      <td>3.0</td>\n",
       "      <td>82.0</td>\n",
       "      <td>4.0</td>\n",
       "      <td>2096120.0</td>\n",
       "      <td>25562.0</td>\n",
       "      <td>2013.0</td>\n",
       "      <td>2.0</td>\n",
       "    </tr>\n",
       "    <tr>\n",
       "      <th>2</th>\n",
       "      <td>2010.0</td>\n",
       "      <td>12.0</td>\n",
       "      <td>31/12/2010</td>\n",
       "      <td>tel-aviv-area</td>\n",
       "      <td>קרליבך 1</td>\n",
       "      <td>3.0</td>\n",
       "      <td>91.0</td>\n",
       "      <td>1.0</td>\n",
       "      <td>1898195.0</td>\n",
       "      <td>20859.0</td>\n",
       "      <td>2013.0</td>\n",
       "      <td>3.0</td>\n",
       "    </tr>\n",
       "    <tr>\n",
       "      <th>3</th>\n",
       "      <td>2010.0</td>\n",
       "      <td>12.0</td>\n",
       "      <td>31/12/2010</td>\n",
       "      <td>tel-aviv-area</td>\n",
       "      <td>קרליבך 1</td>\n",
       "      <td>5.0</td>\n",
       "      <td>121.0</td>\n",
       "      <td>12.0</td>\n",
       "      <td>3146500.0</td>\n",
       "      <td>26004.0</td>\n",
       "      <td>2013.0</td>\n",
       "      <td>4.0</td>\n",
       "    </tr>\n",
       "    <tr>\n",
       "      <th>4</th>\n",
       "      <td>2010.0</td>\n",
       "      <td>12.0</td>\n",
       "      <td>31/12/2010</td>\n",
       "      <td>tel-aviv-area</td>\n",
       "      <td>אב 1</td>\n",
       "      <td>5.0</td>\n",
       "      <td>125.0</td>\n",
       "      <td>18.0</td>\n",
       "      <td>7996764.0</td>\n",
       "      <td>63974.0</td>\n",
       "      <td>2011.0</td>\n",
       "      <td>6.0</td>\n",
       "    </tr>\n",
       "    <tr>\n",
       "      <th>...</th>\n",
       "      <td>...</td>\n",
       "      <td>...</td>\n",
       "      <td>...</td>\n",
       "      <td>...</td>\n",
       "      <td>...</td>\n",
       "      <td>...</td>\n",
       "      <td>...</td>\n",
       "      <td>...</td>\n",
       "      <td>...</td>\n",
       "      <td>...</td>\n",
       "      <td>...</td>\n",
       "      <td>...</td>\n",
       "    </tr>\n",
       "    <tr>\n",
       "      <th>30981</th>\n",
       "      <td>2020.0</td>\n",
       "      <td>1.0</td>\n",
       "      <td>14/1/2020</td>\n",
       "      <td>raanana-kfar-saba</td>\n",
       "      <td>ברנדיס 1</td>\n",
       "      <td>5.0</td>\n",
       "      <td>184.0</td>\n",
       "      <td>8.0</td>\n",
       "      <td>4940000.0</td>\n",
       "      <td>26847.0</td>\n",
       "      <td>2019.0</td>\n",
       "      <td>36930.0</td>\n",
       "    </tr>\n",
       "    <tr>\n",
       "      <th>30982</th>\n",
       "      <td>2020.0</td>\n",
       "      <td>1.0</td>\n",
       "      <td>14/1/2020</td>\n",
       "      <td>raanana-kfar-saba</td>\n",
       "      <td>ששת הימים 24</td>\n",
       "      <td>4.0</td>\n",
       "      <td>100.0</td>\n",
       "      <td>6.0</td>\n",
       "      <td>1900000.0</td>\n",
       "      <td>19000.0</td>\n",
       "      <td>2019.0</td>\n",
       "      <td>36931.0</td>\n",
       "    </tr>\n",
       "    <tr>\n",
       "      <th>30983</th>\n",
       "      <td>2020.0</td>\n",
       "      <td>1.0</td>\n",
       "      <td>10/1/2020</td>\n",
       "      <td>raanana-kfar-saba</td>\n",
       "      <td>NaN</td>\n",
       "      <td>5.0</td>\n",
       "      <td>173.0</td>\n",
       "      <td>NaN</td>\n",
       "      <td>3200000.0</td>\n",
       "      <td>18497.0</td>\n",
       "      <td>1997.0</td>\n",
       "      <td>36932.0</td>\n",
       "    </tr>\n",
       "    <tr>\n",
       "      <th>30984</th>\n",
       "      <td>2020.0</td>\n",
       "      <td>1.0</td>\n",
       "      <td>10/1/2020</td>\n",
       "      <td>raanana-kfar-saba</td>\n",
       "      <td>בית אל 90</td>\n",
       "      <td>5.0</td>\n",
       "      <td>173.0</td>\n",
       "      <td>NaN</td>\n",
       "      <td>3200000.0</td>\n",
       "      <td>18497.0</td>\n",
       "      <td>1997.0</td>\n",
       "      <td>36933.0</td>\n",
       "    </tr>\n",
       "    <tr>\n",
       "      <th>30985</th>\n",
       "      <td>2020.0</td>\n",
       "      <td>1.0</td>\n",
       "      <td>10/1/2020</td>\n",
       "      <td>raanana-kfar-saba</td>\n",
       "      <td>NaN</td>\n",
       "      <td>6.0</td>\n",
       "      <td>163.0</td>\n",
       "      <td>NaN</td>\n",
       "      <td>2570000.0</td>\n",
       "      <td>15766.0</td>\n",
       "      <td>2010.0</td>\n",
       "      <td>36934.0</td>\n",
       "    </tr>\n",
       "  </tbody>\n",
       "</table>\n",
       "<p>30986 rows × 12 columns</p>\n",
       "</div>"
      ],
      "text/plain": [
       "       DealYear  DealMonth        Date               Area       Address  \\\n",
       "0        2010.0       12.0  31/12/2010      tel-aviv-area     מלצ''ט 36   \n",
       "1        2010.0       12.0  31/12/2010      tel-aviv-area      קרליבך 1   \n",
       "2        2010.0       12.0  31/12/2010      tel-aviv-area      קרליבך 1   \n",
       "3        2010.0       12.0  31/12/2010      tel-aviv-area      קרליבך 1   \n",
       "4        2010.0       12.0  31/12/2010      tel-aviv-area          אב 1   \n",
       "...         ...        ...         ...                ...           ...   \n",
       "30981    2020.0        1.0   14/1/2020  raanana-kfar-saba      ברנדיס 1   \n",
       "30982    2020.0        1.0   14/1/2020  raanana-kfar-saba  ששת הימים 24   \n",
       "30983    2020.0        1.0   10/1/2020  raanana-kfar-saba           NaN   \n",
       "30984    2020.0        1.0   10/1/2020  raanana-kfar-saba     בית אל 90   \n",
       "30985    2020.0        1.0   10/1/2020  raanana-kfar-saba           NaN   \n",
       "\n",
       "       Rooms  Surface  Floor      Price    PPSQM  BuildYear  Unnamed: 0  \n",
       "0        5.0    128.0    NaN   950000.0   7421.0     1999.0         1.0  \n",
       "1        3.0     82.0    4.0  2096120.0  25562.0     2013.0         2.0  \n",
       "2        3.0     91.0    1.0  1898195.0  20859.0     2013.0         3.0  \n",
       "3        5.0    121.0   12.0  3146500.0  26004.0     2013.0         4.0  \n",
       "4        5.0    125.0   18.0  7996764.0  63974.0     2011.0         6.0  \n",
       "...      ...      ...    ...        ...      ...        ...         ...  \n",
       "30981    5.0    184.0    8.0  4940000.0  26847.0     2019.0     36930.0  \n",
       "30982    4.0    100.0    6.0  1900000.0  19000.0     2019.0     36931.0  \n",
       "30983    5.0    173.0    NaN  3200000.0  18497.0     1997.0     36932.0  \n",
       "30984    5.0    173.0    NaN  3200000.0  18497.0     1997.0     36933.0  \n",
       "30985    6.0    163.0    NaN  2570000.0  15766.0     2010.0     36934.0  \n",
       "\n",
       "[30986 rows x 12 columns]"
      ]
     },
     "execution_count": 13,
     "metadata": {},
     "output_type": "execute_result"
    }
   ],
   "source": [
    "df_clean"
   ]
  },
  {
   "cell_type": "markdown",
   "id": "687f5b3c",
   "metadata": {},
   "source": [
    "# 5,949 rows have been removed"
   ]
  },
  {
   "cell_type": "code",
   "execution_count": null,
   "id": "d8623e7b",
   "metadata": {},
   "outputs": [],
   "source": []
  }
 ],
 "metadata": {
  "kernelspec": {
   "display_name": "Python 3 (ipykernel)",
   "language": "python",
   "name": "python3"
  },
  "language_info": {
   "codemirror_mode": {
    "name": "ipython",
    "version": 3
   },
   "file_extension": ".py",
   "mimetype": "text/x-python",
   "name": "python",
   "nbconvert_exporter": "python",
   "pygments_lexer": "ipython3",
   "version": "3.9.12"
  }
 },
 "nbformat": 4,
 "nbformat_minor": 5
}
